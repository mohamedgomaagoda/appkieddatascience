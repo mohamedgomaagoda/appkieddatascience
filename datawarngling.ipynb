{
  "nbformat": 4,
  "nbformat_minor": 0,
  "metadata": {
    "colab": {
      "provenance": [],
      "authorship_tag": "ABX9TyNr+RFsc5P6tDa5iQ8EqQBm",
      "include_colab_link": true
    },
    "kernelspec": {
      "name": "python3",
      "display_name": "Python 3"
    },
    "language_info": {
      "name": "python"
    }
  },
  "cells": [
    {
      "cell_type": "markdown",
      "metadata": {
        "id": "view-in-github",
        "colab_type": "text"
      },
      "source": [
        "<a href=\"https://colab.research.google.com/github/mohamedgomaagoda/appkieddatascience/blob/main/datawarngling.ipynb\" target=\"_parent\"><img src=\"https://colab.research.google.com/assets/colab-badge.svg\" alt=\"Open In Colab\"/></a>"
      ]
    },
    {
      "cell_type": "code",
      "execution_count": null,
      "metadata": {
        "id": "MEsuviP9XJ5t"
      },
      "outputs": [],
      "source": [
        "# Pandas is a software library written for the Python programming language for data manipulation and analysis.\n",
        "import pandas as pd\n",
        "#NumPy is a library for the Python programming language, adding support for large, multi-dimensional arrays and matrices, along with a large collection of high-level mathematical functions to operate on these arrays\n",
        "import numpy as np\n",
        "df=pd.read_csv(\"https://cf-courses-data.s3.us.cloud-object-storage.appdomain.cloud/IBM-DS0321EN-SkillsNetwork/datasets/dataset_part_1.csv\")\n",
        "df.head(10)\n",
        "df.isnull().sum()/df.count()*100\n",
        "df.dtypes\n",
        "# Apply value_counts() on column LaunchSite\n",
        "df['LaunchSite'].value_counts()\n",
        "# Apply value_counts on Orbit column\n",
        "df['Orbit'].value_counts()\n",
        "# landing_outcomes = values on Outcome column\n",
        "#landing_outcomes = df['Outcome'].value_counts()\n",
        "df['Outcome'].value_counts()\n",
        "for i,outcome in enumerate(landing_outcomes.keys()):\n",
        "    print(i,outcome)\n",
        "bad_outcomes=set(landing_outcomes.keys()[[1,3,5,6,7]])\n",
        "bad_outcomes\n",
        "# landing_class = 0 if bad_outcome\n",
        "# landing_class = 1 otherwise\n",
        "\n",
        "landing_class = df['Outcome'].map(lambda x: 0 if x in bad_outcomes else 1)\n",
        "df['Class']=landing_class\n",
        "df[['Class']].head(8)\n",
        "df.head(8)\n",
        "df[\"Class\"].mean()\n",
        "df.to_csv(\"dataset_part_2.csv\", index=False)\n",
        "\n",
        "\n",
        "\n",
        "\n",
        "\n",
        "\n"
      ]
    }
  ]
}